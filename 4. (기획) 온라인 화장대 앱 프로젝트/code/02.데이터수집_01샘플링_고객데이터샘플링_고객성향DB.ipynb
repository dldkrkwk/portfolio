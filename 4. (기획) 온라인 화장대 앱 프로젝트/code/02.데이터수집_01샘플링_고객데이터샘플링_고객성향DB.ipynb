{
 "cells": [
  {
   "cell_type": "code",
   "execution_count": 5,
   "metadata": {},
   "outputs": [
    {
     "data": {
      "text/html": [
       "<div>\n",
       "<style scoped>\n",
       "    .dataframe tbody tr th:only-of-type {\n",
       "        vertical-align: middle;\n",
       "    }\n",
       "\n",
       "    .dataframe tbody tr th {\n",
       "        vertical-align: top;\n",
       "    }\n",
       "\n",
       "    .dataframe thead th {\n",
       "        text-align: right;\n",
       "    }\n",
       "</style>\n",
       "<table border=\"1\" class=\"dataframe\">\n",
       "  <thead>\n",
       "    <tr style=\"text-align: right;\">\n",
       "      <th></th>\n",
       "      <th>피부톤</th>\n",
       "      <th>피부타입</th>\n",
       "      <th>피부고민</th>\n",
       "      <th>선호스타일</th>\n",
       "    </tr>\n",
       "  </thead>\n",
       "  <tbody>\n",
       "    <tr>\n",
       "      <th>0</th>\n",
       "      <td>가을웜톤</td>\n",
       "      <td>건성</td>\n",
       "      <td>트러블</td>\n",
       "      <td>데일리</td>\n",
       "    </tr>\n",
       "    <tr>\n",
       "      <th>1</th>\n",
       "      <td>여름쿨톤</td>\n",
       "      <td>중성</td>\n",
       "      <td>블랙헤드/모공</td>\n",
       "      <td>유니크(힙)</td>\n",
       "    </tr>\n",
       "    <tr>\n",
       "      <th>2</th>\n",
       "      <td>봄웜톤</td>\n",
       "      <td>지성</td>\n",
       "      <td>블랙헤드/모공</td>\n",
       "      <td>섹시</td>\n",
       "    </tr>\n",
       "    <tr>\n",
       "      <th>3</th>\n",
       "      <td>가을웜톤</td>\n",
       "      <td>민감성</td>\n",
       "      <td>주름/탄력</td>\n",
       "      <td>섹시</td>\n",
       "    </tr>\n",
       "    <tr>\n",
       "      <th>4</th>\n",
       "      <td>봄웜톤</td>\n",
       "      <td>복합성</td>\n",
       "      <td>트러블</td>\n",
       "      <td>청순</td>\n",
       "    </tr>\n",
       "  </tbody>\n",
       "</table>\n",
       "</div>"
      ],
      "text/plain": [
       "    피부톤 피부타입     피부고민   선호스타일\n",
       "0  가을웜톤   건성      트러블     데일리\n",
       "1  여름쿨톤   중성  블랙헤드/모공  유니크(힙)\n",
       "2   봄웜톤   지성  블랙헤드/모공      섹시\n",
       "3  가을웜톤  민감성    주름/탄력      섹시\n",
       "4   봄웜톤  복합성      트러블      청순"
      ]
     },
     "execution_count": 5,
     "metadata": {},
     "output_type": "execute_result"
    }
   ],
   "source": [
    "# Define the number of samples you want\n",
    "num_samples = 9999\n",
    "# Define the categories for each column\n",
    "tones = ['가을웜톤', '겨울쿨톤', '봄웜톤', '여름쿨톤', '쿨톤', '웜톤']\n",
    "# tones.append('웜톤')\n",
    "types = ['건성', '복합성', '중성', '지성', '민감성']\n",
    "concerns = ['민감성/아토피', '주름/탄력', '잡티/미백/홍조/다크서클', '각질', '트러블', '블랙헤드/모공']\n",
    "styles = ['데일리', '유니크(힙)', '러블리', '섹시', '청순']\n",
    "\n",
    "# Generate random data\n",
    "data = {\n",
    "    '피부톤': np.random.choice(tones, size=num_samples),\n",
    "    '피부타입': np.random.choice(types, size=num_samples),\n",
    "    '피부고민': np.random.choice(concerns, size=num_samples),\n",
    "    '선호스타일': np.random.choice(styles, size=num_samples)\n",
    "}\n",
    "# Create a DataFrame\n",
    "customer_type_sample = pd.DataFrame(data)\n",
    "# Display the first few rows of the DataFrame\n",
    "customer_type_sample.head()"
   ]
  },
  {
   "cell_type": "code",
   "execution_count": 6,
   "metadata": {},
   "outputs": [
    {
     "name": "stdout",
     "output_type": "stream",
     "text": [
      "<class 'pandas.core.frame.DataFrame'>\n",
      "RangeIndex: 9999 entries, 0 to 9998\n",
      "Data columns (total 4 columns):\n",
      " #   Column  Non-Null Count  Dtype \n",
      "---  ------  --------------  ----- \n",
      " 0   피부톤     9999 non-null   object\n",
      " 1   피부타입    9999 non-null   object\n",
      " 2   피부고민    9999 non-null   object\n",
      " 3   선호스타일   9999 non-null   object\n",
      "dtypes: object(4)\n",
      "memory usage: 312.6+ KB\n"
     ]
    }
   ],
   "source": [
    "customer_type_sample.info()"
   ]
  },
  {
   "cell_type": "code",
   "execution_count": 7,
   "metadata": {},
   "outputs": [],
   "source": [
    "customer_type_sample.to_csv('./data/02.데이터수집_01샘플링_고객데이터샘플링_고객성향DB_9999명.csv', index=False)"
   ]
  }
 ],
 "metadata": {
  "kernelspec": {
   "display_name": "base",
   "language": "python",
   "name": "python3"
  },
  "language_info": {
   "codemirror_mode": {
    "name": "ipython",
    "version": 3
   },
   "file_extension": ".py",
   "mimetype": "text/x-python",
   "name": "python",
   "nbconvert_exporter": "python",
   "pygments_lexer": "ipython3",
   "version": "3.11.5"
  }
 },
 "nbformat": 4,
 "nbformat_minor": 2
}
