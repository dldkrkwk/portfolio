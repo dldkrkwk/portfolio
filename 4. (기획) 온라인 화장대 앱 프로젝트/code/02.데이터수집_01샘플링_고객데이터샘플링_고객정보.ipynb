{
 "cells": [
  {
   "cell_type": "code",
   "execution_count": 2,
   "metadata": {},
   "outputs": [],
   "source": [
    "import pandas as pd\n",
    "from faker import Faker\n",
    "import random\n",
    "\n",
    "fake = Faker()\n",
    "\n",
    "def generate_random_dob():\n",
    "    name = fake.first_name()\n",
    "    year = random.randint(70, 105)\n",
    "    month = random.randint(1, 12)\n",
    "    day = random.randint(1, 28)\n",
    "    gender = random.choice(['남', '여'])\n",
    "\n",
    "    return name, year, month, day, gender\n",
    "\n",
    "names = []\n",
    "births = []\n",
    "genders = []\n",
    "for _ in range(9999):\n",
    "    name, year, month, day, gender = generate_random_dob()\n",
    "    names.append(name)\n",
    "    births.append(f\"{year:02d}{month:02d}{day:02d}\")\n",
    "    genders.append(gender)\n",
    "\n",
    "data = pd.DataFrame({\n",
    "    '성명': names,\n",
    "    '생년월일': births,\n",
    "    '성별': genders\n",
    "})\n",
    "data.to_csv('./data/02.데이터수집_01샘플링_고객데이터샘플링_고객정보_9999명.csv', index=False)\n",
    "data.head()"
   ]
  }
 ],
 "metadata": {
  "kernelspec": {
   "display_name": "envFirst1",
   "language": "python",
   "name": "python3"
  },
  "language_info": {
   "codemirror_mode": {
    "name": "ipython",
    "version": 3
   },
   "file_extension": ".py",
   "mimetype": "text/x-python",
   "name": "python",
   "nbconvert_exporter": "python",
   "pygments_lexer": "ipython3",
   "version": "3.10.13"
  }
 },
 "nbformat": 4,
 "nbformat_minor": 2
}
