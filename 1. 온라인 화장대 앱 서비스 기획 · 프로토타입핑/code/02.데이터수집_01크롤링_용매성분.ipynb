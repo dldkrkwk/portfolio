{
 "cells": [
  {
   "cell_type": "markdown",
   "metadata": {},
   "source": [
    "# 방부제성분 크롤링"
   ]
  },
  {
   "cell_type": "code",
   "execution_count": null,
   "metadata": {},
   "outputs": [],
   "source": [
    "# 크롤링 및 스크래핑\n",
    "\n",
    "from selenium import webdriver\n",
    "from webdriver_manager.chrome import ChromeDriverManager\n",
    "from selenium.webdriver.chrome.service import Service\n",
    "from selenium.webdriver.common.by import By\n",
    "from selenium.webdriver.support.ui import WebDriverWait\n",
    "from selenium.webdriver.support import expected_conditions as EC\n",
    "import time\n",
    "from selenium.common.exceptions import TimeoutException\n",
    "service = Service()\n",
    "options = webdriver.ChromeOptions()\n",
    "driver = webdriver.Chrome(service=service, options=options)\n",
    "url = \"https://ec.europa.eu/growth/tools-databases/cosing/reference/functions/list/PRESERVATIVE\"\n",
    "driver.get(url)\n",
    "\n"
   ]
  },
  {
   "cell_type": "code",
   "execution_count": 14,
   "metadata": {},
   "outputs": [],
   "source": [
    "def crawling(driver):\n",
    "    try:\n",
    "        element = WebDriverWait(driver, 20).until(\n",
    "            EC.presence_of_element_located((By.CLASS_NAME, \"ecl-u-type-prolonged-m\"))\n",
    "        )\n",
    "        a_all = driver.find_elements(By.CLASS_NAME, \"ecl-u-type-prolonged-m\")\n",
    "        solvent = []\n",
    "        for a in a_all:\n",
    "            solvent.append(a.text)\n",
    "        return solvent\n",
    "    except TimeoutException:\n",
    "        print(\"TimeoutException: Element not found within the specified time.\")\n",
    "#     finally:\n",
    "#         return solvent\n"
   ]
  },
  {
   "cell_type": "code",
   "execution_count": 17,
   "metadata": {},
   "outputs": [
    {
     "name": "stdout",
     "output_type": "stream",
     "text": [
      "0000000\n",
      "2 <class 'str'>\n",
      "2\n",
      "0000000\n",
      "3 <class 'str'>\n",
      "3\n",
      "0000000\n"
     ]
    }
   ],
   "source": [
    "current_page = 1\n",
    "total_pages = 3\n",
    "solvent_list = []\n",
    "for _ in range(total_pages):\n",
    "    print(\"0000000\")\n",
    "    crawling(driver)\n",
    "    current_page_data = crawling(driver)\n",
    "\n",
    "    if not current_page_data:\n",
    "        break  # No more pages available\n",
    "\n",
    "    # Append the data to the list\n",
    "    solvent_list.extend(current_page_data)\n",
    "    try:\n",
    "        element = WebDriverWait(driver, 20).until(\n",
    "                EC.presence_of_element_located((By.CLASS_NAME, \"ecl-pagination__link\"))\n",
    "        )\n",
    "        page_buttons = driver.find_elements(By.CLASS_NAME, \"ecl-pagination__link\")\n",
    "        for page in page_buttons:\n",
    "            if page.text == (str)(current_page + 1):\n",
    "                print(page.text, type(page.text))\n",
    "                print(page.text)\n",
    "                page.click()\n",
    "                time.sleep(5)\n",
    "                current_page += 1\n",
    "                break\n",
    "    \n",
    "    except TimeoutException:\n",
    "        print(\"TimeoutException: Element not found within the specified time.\")\n",
    "            \n"
   ]
  },
  {
   "cell_type": "code",
   "execution_count": 22,
   "metadata": {},
   "outputs": [],
   "source": [
    "import pandas as pd\n",
    "\n",
    "df_solvent = pd.DataFrame({\n",
    "    \"solvent\":solvent_list\n",
    "})"
   ]
  },
  {
   "cell_type": "markdown",
   "metadata": {},
   "source": [
    "# 용매성분 크롤링"
   ]
  },
  {
   "cell_type": "code",
   "execution_count": null,
   "metadata": {},
   "outputs": [],
   "source": [
    "# 크롤링 및 스크래핑\n",
    "\n",
    "from selenium import webdriver\n",
    "from webdriver_manager.chrome import ChromeDriverManager\n",
    "from selenium.webdriver.chrome.service import Service\n",
    "from selenium.webdriver.common.by import By\n",
    "from selenium.webdriver.support.ui import WebDriverWait\n",
    "from selenium.webdriver.support import expected_conditions as EC\n",
    "import time\n",
    "from selenium.common.exceptions import TimeoutException\n",
    "service = Service()\n",
    "options = webdriver.ChromeOptions()\n",
    "driver = webdriver.Chrome(service=service, options=options)\n",
    "url = \"https://ec.europa.eu/growth/tools-databases/cosing/reference/functions/list/SOLVENT\"\n",
    "driver.get(url)\n",
    "\n"
   ]
  },
  {
   "cell_type": "code",
   "execution_count": null,
   "metadata": {},
   "outputs": [],
   "source": [
    "def crawling(driver):\n",
    "    try:\n",
    "        element = WebDriverWait(driver, 20).until(\n",
    "            EC.presence_of_element_located((By.CLASS_NAME, \"ecl-u-type-prolonged-m\"))\n",
    "        )\n",
    "        a_all = driver.find_elements(By.CLASS_NAME, \"ecl-u-type-prolonged-m\")\n",
    "        solvent = []\n",
    "        for a in a_all:\n",
    "            solvent.append(a.text)\n",
    "        return solvent\n",
    "    except TimeoutException:\n",
    "        print(\"TimeoutException: Element not found within the specified time.\")\n"
   ]
  },
  {
   "cell_type": "code",
   "execution_count": null,
   "metadata": {},
   "outputs": [
    {
     "name": "stdout",
     "output_type": "stream",
     "text": [
      "0000000\n",
      "2 <class 'str'>\n",
      "2\n",
      "0000000\n",
      "3 <class 'str'>\n",
      "3\n",
      "0000000\n",
      "4 <class 'str'>\n",
      "4\n",
      "0000000\n",
      "5 <class 'str'>\n",
      "5\n",
      "0000000\n",
      "6 <class 'str'>\n",
      "6\n",
      "0000000\n",
      "7 <class 'str'>\n",
      "7\n",
      "0000000\n"
     ]
    }
   ],
   "source": [
    "current_page = 1\n",
    "total_pages = 7\n",
    "\n",
    "solvent_list = []\n",
    "for _ in range(total_pages):\n",
    "    print(\"0000000\")\n",
    "    crawling(driver)\n",
    "    current_page_data = crawling(driver)\n",
    "\n",
    "    if not current_page_data:\n",
    "        break  # No more pages available\n",
    "\n",
    "    # Append the data to the list\n",
    "    solvent_list.extend(current_page_data)\n",
    "    try:\n",
    "        element = WebDriverWait(driver, 20).until(\n",
    "                EC.presence_of_element_located((By.CLASS_NAME, \"ecl-pagination__link\"))\n",
    "        )\n",
    "        page_buttons = driver.find_elements(By.CLASS_NAME, \"ecl-pagination__link\")\n",
    "        for page in page_buttons:\n",
    "            if page.text == (str)(current_page + 1):\n",
    "                print(page.text, type(page.text))\n",
    "                print(page.text)\n",
    "                page.click()\n",
    "                time.sleep(5)\n",
    "                current_page += 1\n",
    "                break\n",
    "    \n",
    "    except TimeoutException:\n",
    "        print(\"TimeoutException: Element not found within the specified time.\")\n",
    "            "
   ]
  },
  {
   "cell_type": "code",
   "execution_count": null,
   "metadata": {},
   "outputs": [],
   "source": [
    "import pandas as pd\n",
    "\n",
    "df = pd.DataFrame({\n",
    "    \"solvent\":solvent_list\n",
    "})\n",
    "df = pd.concat([df_solvent, df], ignore_index=True)\n",
    "data = df.to_csv('./data/02.데이터수집_01크롤링_용매성분_solvent.csv', index=False)"
   ]
  }
 ],
 "metadata": {
  "kernelspec": {
   "display_name": "base",
   "language": "python",
   "name": "python3"
  },
  "language_info": {
   "codemirror_mode": {
    "name": "ipython",
    "version": 3
   },
   "file_extension": ".py",
   "mimetype": "text/x-python",
   "name": "python",
   "nbconvert_exporter": "python",
   "pygments_lexer": "ipython3",
   "version": "3.11.5"
  }
 },
 "nbformat": 4,
 "nbformat_minor": 2
}
